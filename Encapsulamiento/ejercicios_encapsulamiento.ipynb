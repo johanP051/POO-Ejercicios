{
 "cells": [
  {
   "cell_type": "markdown",
   "metadata": {},
   "source": [
    "# Cuenta bancaria"
   ]
  },
  {
   "cell_type": "code",
   "execution_count": null,
   "metadata": {},
   "outputs": [
    {
     "name": "stdout",
     "output_type": "stream",
     "text": [
      "\n",
      "Opciones:\n",
      "1. Consultar saldo\n",
      "2. Depositar dinero\n",
      "3. Retirar dinero\n",
      "4. Salir\n",
      "El saldo actual es: 12000.0\n"
     ]
    }
   ],
   "source": [
    "class CuentaBancaria():\n",
    "    def __init__(self, saldo, titular):\n",
    "        self.__saldo = saldo\n",
    "        self.__titular = titular \n",
    "\n",
    "    @property\n",
    "    def saldo(self):\n",
    "        print(f\"{self.__titular} su saldo actual es de: {self.__saldo}\")\n",
    "    \n",
    "    @saldo.setter\n",
    "    def saldo(self, nuevo_saldo):\n",
    "        self.__saldo = nuevo_saldo\n",
    "        return self.__saldo\n",
    "\n",
    "    @property\n",
    "    def titular(self):\n",
    "        print(f\"El titular de la cuenta es: {self.__titular}\")\n",
    "    \n",
    "    @saldo.setter\n",
    "    def saldo(self, nuevo_titular):\n",
    "        self.__titular = nuevo_titular\n",
    "        return self.__titular\n",
    "\n",
    "    def depositar(self, deposito_dinero):\n",
    "        self.__saldo += deposito_dinero\n",
    "        print(f\"Se ha depositado {deposito_dinero}. El nuevo saldo es de {self.__saldo}\")\n",
    "\n",
    "    def retirar(self, retiro_dinero):\n",
    "        while True:\n",
    "            try:\n",
    "                self.__saldo -= retiro_dinero\n",
    "            except Exception as e:\n",
    "                print(e)\n",
    "\n",
    "            if retiro_dinero > self.__saldo:\n",
    "                print(\"No puede retirar una cantidad mayor al saldo actual\")\n",
    "                print(f\"{self.__titular}, su saldo actual es de: {self.__saldo}, y está tratando de retirar {retiro_dinero}\")\n",
    "                continue\n",
    "            else:\n",
    "                break\n",
    "\n",
    "def ejecucion():\n",
    "    while True:\n",
    "        print(\"\\nOpciones:\")\n",
    "        print(\"1. Consultar saldo\")\n",
    "        print(\"2. Depositar dinero\")\n",
    "        print(\"3. Retirar dinero\")\n",
    "        print(\"4. Salir\")\n",
    "        opcion = int(input(\"Seleccione una opción: \"))\n",
    "\n",
    "        saldo_1 = float(input(\"Ingrese el saldo inicial del usuario: \"))\n",
    "        titular_1 = input(\"Inserte el titular de la cuenta: \")\n",
    "        cuenta = CuentaBancaria(saldo_1, titular_1)\n",
    "\n",
    "        match opcion:\n",
    "            case 1:\n",
    "                print(f\"{titular_1}, su saldo actual es: {cuenta.saldo}\")\n",
    "            case 2:\n",
    "                deposito_dinero_1 = float(input(\"Inserte el valor del monto del depósito: \"))\n",
    "                cuenta.depositar(deposito_dinero_1)\n",
    "            case 3:\n",
    "                retiro_dinero_1 = float(input(\"Inserte el valor del monto del retiro: \"))\n",
    "                cuenta.retirar(retiro_dinero_1)\n",
    "            case 4:\n",
    "                print(\"Saliendo del programa...\")\n",
    "                break\n",
    "            case _:\n",
    "                print(\"Opción no válida.\")\n",
    "\n",
    "        continuar = input(\"¿Desea realizar otra operación? (S/n): \")\n",
    "        if continuar.lower() == \"n\":\n",
    "            break\n",
    "\n",
    "if __name__ == \"__main__\":\n",
    "    ejecucion()"
   ]
  }
 ],
 "metadata": {
  "kernelspec": {
   "display_name": "usr",
   "language": "python",
   "name": "python3"
  },
  "language_info": {
   "codemirror_mode": {
    "name": "ipython",
    "version": 3
   },
   "file_extension": ".py",
   "mimetype": "text/x-python",
   "name": "python",
   "nbconvert_exporter": "python",
   "pygments_lexer": "ipython3",
   "version": "3.12.3"
  }
 },
 "nbformat": 4,
 "nbformat_minor": 2
}
