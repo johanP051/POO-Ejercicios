{
 "cells": [
  {
   "cell_type": "markdown",
   "metadata": {},
   "source": [
    "# Encapsulamiento"
   ]
  },
  {
   "cell_type": "markdown",
   "metadata": {},
   "source": [
    "## Prmera forma de hacerlo: sin decoradores (@property: getters y @metodo.setter)\n",
    "\n",
    "* Ejemplo con testing"
   ]
  },
  {
   "cell_type": "code",
   "execution_count": 43,
   "metadata": {},
   "outputs": [
    {
     "name": "stdout",
     "output_type": "stream",
     "text": [
      "Esto es un atributo protegido, lo que es lo mismo que attr privado en Python\n",
      "Modificando el attr_privado por fuera de la clase\n"
     ]
    }
   ],
   "source": [
    "class Testing():\n",
    "    def __init__(self):\n",
    "        self._attr_privado = \"Esto es un atributo protegido, lo que es lo mismo que attr privado en Python\"\n",
    "        self.__attr_muy_muy_privado = \"Esto es un atributo privado, lo que es lo mismo que attr muy muy privado en Python\"\n",
    "\n",
    "test = Testing()\n",
    "\n",
    "#Los atributos privados (_attr) se pueden acceder por fuera de la clase\n",
    "print(test._attr_privado)\n",
    "\n",
    "#También se pueden modificar por fuera de la clase\n",
    "test._attr_privado = \"Modificando el attr_privado por fuera de la clase\"\n",
    "print(test._attr_privado)"
   ]
  },
  {
   "cell_type": "code",
   "execution_count": 2,
   "metadata": {},
   "outputs": [
    {
     "ename": "AttributeError",
     "evalue": "'Testing' object has no attribute '__attr_muy_muy_privado'",
     "output_type": "error",
     "traceback": [
      "\u001b[0;31m---------------------------------------------------------------------------\u001b[0m",
      "\u001b[0;31mAttributeError\u001b[0m                            Traceback (most recent call last)",
      "Cell \u001b[0;32mIn[2], line 2\u001b[0m\n\u001b[1;32m      1\u001b[0m \u001b[38;5;66;03m# Los atributos muy muy privados (__attr) NO se pueden acceder por fuera de la clase\u001b[39;00m\n\u001b[0;32m----> 2\u001b[0m \u001b[38;5;28mprint\u001b[39m(\u001b[43mtest\u001b[49m\u001b[38;5;241;43m.\u001b[39;49m\u001b[43m__attr_muy_muy_privado\u001b[49m)\n",
      "\u001b[0;31mAttributeError\u001b[0m: 'Testing' object has no attribute '__attr_muy_muy_privado'"
     ]
    }
   ],
   "source": [
    "# Los atributos muy muy privados (__attr) NO se pueden acceder por fuera de la clase\n",
    "print(test.__attr_muy_muy_privado)"
   ]
  },
  {
   "cell_type": "markdown",
   "metadata": {},
   "source": [
    "## Usando métodos para get y set (sin decoradores)\n",
    "\n",
    "* En mi opinión, los atributos privados de Python no tienen mucha utilidad, sirven para indicar al desarrollador que el atributo no debería modificarse por fuera de la clase, pero igualmente se puede, es por eso que para los getters y setters sin decoradores usaré los **atributos muy, muy privados**"
   ]
  },
  {
   "cell_type": "code",
   "execution_count": 37,
   "metadata": {},
   "outputs": [
    {
     "name": "stdout",
     "output_type": "stream",
     "text": [
      "Esto es un atributo privado, lo que es lo mismo que attr muy muy privado en Python\n",
      "Modificación del attr muy privado por medio de un setter\n"
     ]
    }
   ],
   "source": [
    "class Testing():\n",
    "    def __init__(self):\n",
    "        self._attr_privado = \"Esto es un atributo protegido, lo que es lo mismo que attr privado en Python\"\n",
    "        self.__attr_muy_muy_privado = \"Esto es un atributo privado, lo que es lo mismo que attr muy muy privado en Python\"\n",
    "\n",
    "\n",
    "    def get_attr_muy_privado(self):\n",
    "        return self.__attr_muy_muy_privado\n",
    "    \n",
    "    def set_attr_muy_privado(self, nuevo_attr_priv):\n",
    "        self.__attr_muy_muy_privado = nuevo_attr_priv\n",
    "        \n",
    "\n",
    "test = Testing()\n",
    "\n",
    "print( test.get_attr_muy_privado() )\n",
    "\n",
    "test.set_attr_muy_privado('Modificación del attr muy privado por medio de un setter')\n",
    "print( test.get_attr_muy_privado() )"
   ]
  },
  {
   "cell_type": "markdown",
   "metadata": {},
   "source": [
    "# Decoradores\n",
    "* Los decoradores son funciones que añaden más funcionalidades a una función previa"
   ]
  },
  {
   "cell_type": "code",
   "execution_count": 35,
   "metadata": {},
   "outputs": [
    {
     "name": "stdout",
     "output_type": "stream",
     "text": [
      "Función sin decorador: \n",
      "x = 2; x^2 = 4\n",
      "\n",
      "Función con decorador: \n",
      "Texto antes de la ejecución de la función\n",
      "x = 2; x^2 = 4\n",
      "Texto después de la ejecución de la función\n"
     ]
    }
   ],
   "source": [
    "def decorador(funcion_1):\n",
    "    def funcion_decorada(x_1):\n",
    "        print(\"Texto antes de la ejecución de la función\")\n",
    "        funcion_1(x_1)\n",
    "        print(\"Texto después de la ejecución de la función\")\n",
    "    return funcion_decorada\n",
    "\n",
    "def funcion(x):\n",
    "    print(f\"x = {x}; x^2 = {x**2}\")\n",
    "\n",
    "print(\"Función sin decorador: \")\n",
    "funcion(2)\n",
    "\n",
    "print(\"\\nFunción con decorador: \")\n",
    "funcion_decorada = decorador(funcion)\n",
    "funcion_decorada(2)"
   ]
  },
  {
   "cell_type": "markdown",
   "metadata": {},
   "source": [
    "## Los decoradores se pueden poner con @__decorador__ antes de la definición de la función"
   ]
  },
  {
   "cell_type": "code",
   "execution_count": 36,
   "metadata": {},
   "outputs": [
    {
     "name": "stdout",
     "output_type": "stream",
     "text": [
      "Texto antes de la ejecución de la función\n",
      "x = 3; x^2 = 9\n",
      "Texto después de la ejecución de la función\n"
     ]
    }
   ],
   "source": [
    "@decorador\n",
    "def funcion(x):\n",
    "    print(f\"x = {x}; x^2 = {x**2}\")\n",
    "\n",
    "funcion(3)"
   ]
  },
  {
   "cell_type": "markdown",
   "metadata": {},
   "source": [
    "# Segunda forma de establecer getters y setters (con decoradores)\n",
    "\n",
    "* Ejemplo con clase testing\n",
    "* Este método es más cómodo, ya que no toca escribir funciones get y set, sino simplemente, se puede pueden decorar las funciones como getters o setter y tratarse como una modificación de atributos, es decir, me evita tener que escribir los paréntesis () de las funciones"
   ]
  },
  {
   "cell_type": "code",
   "execution_count": null,
   "metadata": {},
   "outputs": [
    {
     "name": "stdout",
     "output_type": "stream",
     "text": [
      "Esto es un atributo privado, lo que es lo mismo que attr muy muy privado en Python\n",
      "Modificando el attr muy privado con un setter\n"
     ]
    }
   ],
   "source": [
    "class Testing():\n",
    "    def __init__(self):\n",
    "        self._attr_privado = \"Esto es un atributo protegido, lo que es lo mismo que attr privado en Python\"\n",
    "        self.__attr_muy_muy_privado = \"Esto es un atributo privado, lo que es lo mismo que attr muy muy privado en Python\"\n",
    "\n",
    "    #Un getter de __attr_muy_muy_privado\n",
    "    @property\n",
    "    def attr_muy_privado(self):\n",
    "        return self.__attr_muy_muy_privado\n",
    "    \n",
    "    #Un setter de __attr_muy_muy_privado\n",
    "    @attr_muy_privado.setter\n",
    "    def attr_muy_privado(self, nuevo_attr_priv):\n",
    "        self.__attr_muy_muy_privado = nuevo_attr_priv\n",
    "        \n",
    "\n",
    "test = Testing()\n",
    "\n",
    "print( test.attr_muy_privado )\n",
    "\n",
    "test.attr_muy_privado = \"Modificando el attr muy privado con un setter\"\n",
    "print( test.attr_muy_privado )"
   ]
  },
  {
   "cell_type": "markdown",
   "metadata": {},
   "source": []
  }
 ],
 "metadata": {
  "kernelspec": {
   "display_name": "usr",
   "language": "python",
   "name": "python3"
  },
  "language_info": {
   "codemirror_mode": {
    "name": "ipython",
    "version": 3
   },
   "file_extension": ".py",
   "mimetype": "text/x-python",
   "name": "python",
   "nbconvert_exporter": "python",
   "pygments_lexer": "ipython3",
   "version": "3.12.3"
  }
 },
 "nbformat": 4,
 "nbformat_minor": 2
}
